{
 "cells": [
  {
   "cell_type": "code",
   "execution_count": 2,
   "id": "27bb30fa",
   "metadata": {},
   "outputs": [
    {
     "name": "stdout",
     "output_type": "stream",
     "text": [
      "Collecting selenium\n",
      "  Using cached selenium-3.141.0-py2.py3-none-any.whl (904 kB)\n",
      "Requirement already satisfied: urllib3 in /Users/minjikim/opt/anaconda3/envs/tensorflow/lib/python3.6/site-packages (from selenium) (1.26.11)\n",
      "Installing collected packages: selenium\n",
      "Successfully installed selenium-3.141.0\n",
      "Note: you may need to restart the kernel to use updated packages.\n"
     ]
    }
   ],
   "source": [
    "pip install selenium"
   ]
  },
  {
   "cell_type": "code",
   "execution_count": 9,
   "id": "0f431d32",
   "metadata": {},
   "outputs": [],
   "source": [
    "from selenium import webdriver\n",
    "import time"
   ]
  },
  {
   "cell_type": "code",
   "execution_count": 14,
   "id": "72e663f7",
   "metadata": {},
   "outputs": [],
   "source": [
    "# 크롬창(웹드라이버) 열기\n",
    "driver = webdriver.Chrome(\"/Users/minjikim/Downloads/chromedriver 4\")\n",
    "\n",
    "# 구글 지도 접속하기\n",
    "driver.get(\"https://www.google.com/maps/\")"
   ]
  },
  {
   "cell_type": "code",
   "execution_count": 15,
   "id": "d5c121f4",
   "metadata": {},
   "outputs": [],
   "source": [
    "# 검색창에 \"카페\" 입력하기\n",
    "searchbox = driver.find_element_by_css_selector(\"input#searchboxinput\")\n",
    "searchbox.send_keys(\"Rome gelato\")\n",
    "\n",
    "# 검색버튼 누르기\n",
    "searchbutton = driver.find_element_by_css_selector(\"button#searchbox-searchbutton\")\n",
    "searchbutton.click()"
   ]
  },
  {
   "cell_type": "code",
   "execution_count": 1,
   "id": "cec1c375",
   "metadata": {},
   "outputs": [],
   "source": [
    "#1단계 검색어로 매장이름 데이터 만들기\n",
    "from selenium import webdriver\n",
    "from selenium.webdriver.common.by import By\n",
    "from selenium.webdriver.common.keys import Keys\n",
    "from selenium.webdriver.support.ui import WebDriverWait\n",
    "from selenium.webdriver.support import expected_conditions as EC "
   ]
  },
  {
   "cell_type": "code",
   "execution_count": 6,
   "id": "95b616fc",
   "metadata": {
    "scrolled": true
   },
   "outputs": [],
   "source": [
    "#selenium에서 사용할 모듈 import\n",
    "import time\n",
    "import requests\n",
    "from bs4 import BeautifulSoup\n",
    "import re\n",
    "import csv\n",
    "import pandas as pd"
   ]
  },
  {
   "cell_type": "code",
   "execution_count": 8,
   "id": "98d26e68",
   "metadata": {},
   "outputs": [],
   "source": [
    "def search_bulit():\n",
    "    \"\"\"\n",
    "    구글맵 검색어 정의(지역 + 코드 + restaurants)\n",
    "    \"\"\"\n",
    "    df = pd.read_csv('romegelato.csv', encoding='utf-8')\n",
    "    food_city = df['cafe_name']\n",
    "    food_code = df['zip']\n",
    "    food_state = df['state']\n",
    "    search_name = []\n",
    "    for i in range(len(food_city)):\n",
    "            name = food_city[i] + \" \" + str(food_code[i]) + \" Restaurants\" \n",
    "            search_name.append(name)\n",
    "    return search_name, food_code"
   ]
  },
  {
   "cell_type": "code",
   "execution_count": 9,
   "id": "4b94b724",
   "metadata": {},
   "outputs": [],
   "source": [
    "def wait_input(driver):\n",
    "    try:\n",
    "        element = WebDriverWait(driver, 10).until(\n",
    "            EC.presence_of_element_located((By.CLASS_NAME, \"tactile-searchbox-input\"))\n",
    "        ) #입력창이 뜰 때까지 대기\n",
    "    finally:\n",
    "        pass"
   ]
  },
  {
   "cell_type": "code",
   "execution_count": 10,
   "id": "101dd4bf",
   "metadata": {},
   "outputs": [],
   "source": [
    "def input_funtion(n,driver,search_name):\n",
    "    print(search_name[n])\n",
    "    search_box = driver.find_element_by_id(\"searchboxinput\")\n",
    "    search_box.send_keys(search_name[n])\n",
    "    search_box.send_keys(Keys.ENTER) #검색창에 \"Los Banos 93635 Restaurants\" 입력"
   ]
  },
  {
   "cell_type": "code",
   "execution_count": 30,
   "id": "0965244c",
   "metadata": {
    "scrolled": true
   },
   "outputs": [
    {
     "name": "stdout",
     "output_type": "stream",
     "text": [
      "Collecting selenium-wire\n",
      "  Using cached selenium_wire-4.6.5-py3-none-any.whl (239 kB)\n",
      "Requirement already satisfied: certifi>=2019.9.11 in /Users/minjikim/opt/anaconda3/envs/tensorflow/lib/python3.6/site-packages (from selenium-wire) (2019.11.28)\n",
      "Requirement already satisfied: pyOpenSSL>=19.1.0 in /Users/minjikim/opt/anaconda3/envs/tensorflow/lib/python3.6/site-packages (from selenium-wire) (22.0.0)\n",
      "Requirement already satisfied: pysocks>=1.7.1 in /Users/minjikim/opt/anaconda3/envs/tensorflow/lib/python3.6/site-packages (from selenium-wire) (1.7.1)\n",
      "Requirement already satisfied: hyperframe>=6.0 in /Users/minjikim/opt/anaconda3/envs/tensorflow/lib/python3.6/site-packages (from selenium-wire) (6.0.1)\n",
      "Collecting brotli>=1.0.9\n",
      "  Using cached Brotli-1.0.9-cp36-cp36m-macosx_10_9_x86_64.whl (421 kB)\n",
      "Requirement already satisfied: kaitaistruct>=0.7 in /Users/minjikim/opt/anaconda3/envs/tensorflow/lib/python3.6/site-packages (from selenium-wire) (0.10)\n",
      "Requirement already satisfied: pyparsing>=2.4.2 in /Users/minjikim/opt/anaconda3/envs/tensorflow/lib/python3.6/site-packages (from selenium-wire) (3.0.4)\n",
      "Requirement already satisfied: zstandard>=0.14.1 in /Users/minjikim/opt/anaconda3/envs/tensorflow/lib/python3.6/site-packages (from selenium-wire) (0.18.0)\n",
      "Requirement already satisfied: h2>=4.0 in /Users/minjikim/opt/anaconda3/envs/tensorflow/lib/python3.6/site-packages (from selenium-wire) (4.1.0)\n",
      "Requirement already satisfied: wsproto>=0.14 in /Users/minjikim/opt/anaconda3/envs/tensorflow/lib/python3.6/site-packages (from selenium-wire) (1.0.0)\n",
      "Requirement already satisfied: selenium>=3.4.0 in /Users/minjikim/opt/anaconda3/envs/tensorflow/lib/python3.6/site-packages (from selenium-wire) (3.141.0)\n",
      "Requirement already satisfied: pyasn1>=0.3.1 in /Users/minjikim/opt/anaconda3/envs/tensorflow/lib/python3.6/site-packages (from selenium-wire) (0.4.8)\n",
      "Requirement already satisfied: dataclasses>=0.7 in /Users/minjikim/opt/anaconda3/envs/tensorflow/lib/python3.6/site-packages (from selenium-wire) (0.8)\n",
      "Collecting blinker>=1.4\n",
      "  Using cached blinker-1.5-py2.py3-none-any.whl (12 kB)\n",
      "Requirement already satisfied: hpack<5,>=4.0 in /Users/minjikim/opt/anaconda3/envs/tensorflow/lib/python3.6/site-packages (from h2>=4.0->selenium-wire) (4.0.0)\n",
      "Requirement already satisfied: cryptography>=35.0 in /Users/minjikim/opt/anaconda3/envs/tensorflow/lib/python3.6/site-packages (from pyOpenSSL>=19.1.0->selenium-wire) (37.0.4)\n",
      "Requirement already satisfied: cffi>=1.12 in /Users/minjikim/opt/anaconda3/envs/tensorflow/lib/python3.6/site-packages (from cryptography>=35.0->pyOpenSSL>=19.1.0->selenium-wire) (1.14.6)\n",
      "Requirement already satisfied: pycparser in /Users/minjikim/opt/anaconda3/envs/tensorflow/lib/python3.6/site-packages (from cffi>=1.12->cryptography>=35.0->pyOpenSSL>=19.1.0->selenium-wire) (2.21)\n",
      "Requirement already satisfied: urllib3 in /Users/minjikim/opt/anaconda3/envs/tensorflow/lib/python3.6/site-packages (from selenium>=3.4.0->selenium-wire) (1.26.11)\n",
      "Requirement already satisfied: h11<1,>=0.9.0 in /Users/minjikim/opt/anaconda3/envs/tensorflow/lib/python3.6/site-packages (from wsproto>=0.14->selenium-wire) (0.13.0)\n",
      "Requirement already satisfied: typing-extensions in /Users/minjikim/opt/anaconda3/envs/tensorflow/lib/python3.6/site-packages (from h11<1,>=0.9.0->wsproto>=0.14->selenium-wire) (4.1.1)\n",
      "Installing collected packages: brotli, blinker, selenium-wire\n",
      "Successfully installed blinker-1.5 brotli-1.0.9 selenium-wire-4.6.5\n",
      "Note: you may need to restart the kernel to use updated packages.\n"
     ]
    }
   ],
   "source": [
    "pip install selenium-wire"
   ]
  },
  {
   "cell_type": "code",
   "execution_count": 29,
   "id": "a55cf30e",
   "metadata": {},
   "outputs": [
    {
     "name": "stdout",
     "output_type": "stream",
     "text": [
      "Collecting certifi==2019.11.28\n",
      "  Downloading certifi-2019.11.28-py2.py3-none-any.whl (156 kB)\n",
      "\u001b[K     |████████████████████████████████| 156 kB 10.2 MB/s eta 0:00:01\n",
      "\u001b[?25hInstalling collected packages: certifi\n",
      "Successfully installed certifi-2019.11.28\n",
      "Note: you may need to restart the kernel to use updated packages.\n"
     ]
    }
   ],
   "source": [
    "pip install --ignore-installed certifi==2019.11.28"
   ]
  },
  {
   "cell_type": "code",
   "execution_count": 31,
   "id": "64fc10ee",
   "metadata": {},
   "outputs": [
    {
     "name": "stderr",
     "output_type": "stream",
     "text": [
      "/Users/minjikim/opt/anaconda3/envs/tensorflow/lib/python3.6/site-packages/OpenSSL/crypto.py:8: CryptographyDeprecationWarning: Python 3.6 is no longer supported by the Python core team. Therefore, support for it is deprecated in cryptography and will be removed in a future release.\n",
      "  from cryptography import utils, x509\n"
     ]
    }
   ],
   "source": [
    "from tqdm import tqdm\n",
    "from seleniumwire import webdriver \n",
    "from time import sleep\n",
    "import requests\n",
    "import json\n",
    "import pandas as pd\n",
    "\n",
    "def google_reviews(store_list,gu,count=10):\n",
    "\n",
    "    #드라이버 실행\n",
    "    options = webdriver.ChromeOptions()\n",
    "    options.add_argument(\"user-agent=Mozilla/5.0 (Macintosh; Intel Mac OS X 10_12_6) AppleWebKit/537.36 (KHTML, like Gecko) Chrome/61.0.3163.100 Safari/537.36\")\n",
    "    driver = webdriver.Chrome('/Users/minjikim/Downloads/chromedriver 4',options=options)   #chromedriver 경로 지정!\n",
    "    driver.get('https://www.google.co.kr/maps')\n",
    "    sleep(3)\n",
    "\n",
    "    # 리스트 형식으로 저장된 가게 하나씩 검색\n",
    "    for store in store_list:\n",
    "        count=count\n",
    "        driver.get('https://www.google.co.kr/maps')\n",
    "        result_list=[]\n",
    "        sleep(3)\n",
    "        query_input=driver.find_element_by_class_name('tactile-searchbox-input')\n",
    "        query_input.send_keys(gu+store+'\\n')\n",
    "        \n",
    "        # 의도한 가게와 검색결과가 같은지 확인\n",
    "        sleep(5)\n",
    "        check=input('일치하는 가게를 클릭 후 y를 눌러주세요(이외 멈춤)')\n",
    "        if check.upper()=='Y':\n",
    "            now_url=driver.current_url\n",
    "        else:\n",
    "            break\n",
    "        \n",
    "        # 리뷰 더보기로 이동\n",
    "        more_btn=driver.find_element_by_xpath('//*[@id=\"pane\"]/div/div[1]/div/div/div[2]/div[1]/div[1]/div[2]/div/div[1]/span[1]/span/span/span[2]/span[1]/button')\n",
    "        more_btn.click()\n",
    "        views=int(''.join(more_btn.text[2:-1].split(',')))//10\n",
    "        \n",
    "        # div태그 스크롤 \n",
    "        sleep(8)\n",
    "        js_scripts = '''\n",
    "        let aa = document.getElementsByClassName('section-scrollbox')[0];\n",
    "        setTimeout(()=>{aa.scroll(0,1000000)}, 1000);\n",
    "        '''\n",
    "        driver.execute_script(js_scripts)\n",
    "        sleep(3) \n",
    "        \n",
    "        # 헤더값 찾기\n",
    "        for request in driver.requests:\n",
    "            if request.response:\n",
    "                pb=request.url.split('pb=')\n",
    "                if len(pb)==2:\n",
    "                    if pb[1][:6]=='!1m2!1':\n",
    "                        url_l=request.url.split('!2m2!1i')\n",
    "                        break\n",
    "                        \n",
    "        # json파일 들고와 리뷰 10개씩 저장하기\n",
    "        # 리뷰의 수가 count보다 작을 경우 count를 리뷰의 수로 변경\n",
    "        if count>views:\n",
    "            for number in tqdm(range(views)):\n",
    "                resp=requests.get((url_l[0]+'!2m2!1i'+'{}'+url_l[1]).format(number))\n",
    "                review = json.loads(resp.text[5:])\n",
    "                for user in range(10):\n",
    "                    result_list.append({\n",
    "                        'ID':review[2][user][0][1],\n",
    "                        '내용':review[2][user][3],\n",
    "                        '날짜':review[2][user][1],\n",
    "                        '별점':review[2][user][4]})\n",
    "        else:\n",
    "            for number in tqdm(range(count)):\n",
    "                resp=requests.get((url_l[0]+'!2m2!1i'+'{}'+url_l[1]).format(number))\n",
    "                review = json.loads(resp.text[5:])\n",
    "                for user in range(10):\n",
    "                    result_list.append({\n",
    "                        'ID':review[2][user][0][1],\n",
    "                        '내용':review[2][user][3],\n",
    "                        '날짜':review[2][user][1],\n",
    "                        '별점':review[2][user][4]})\n",
    "                    \n",
    "        # csv로 저장\n",
    "        df=pd.DataFrame(result_list)\n",
    "        df.to_csv('{}.csv'.format(store))"
   ]
  },
  {
   "cell_type": "code",
   "execution_count": null,
   "id": "b70601a1",
   "metadata": {},
   "outputs": [],
   "source": []
  }
 ],
 "metadata": {
  "kernelspec": {
   "display_name": "Python [conda env:tensorflow] *",
   "language": "python",
   "name": "conda-env-tensorflow-py"
  },
  "language_info": {
   "codemirror_mode": {
    "name": "ipython",
    "version": 3
   },
   "file_extension": ".py",
   "mimetype": "text/x-python",
   "name": "python",
   "nbconvert_exporter": "python",
   "pygments_lexer": "ipython3",
   "version": "3.6.13"
  }
 },
 "nbformat": 4,
 "nbformat_minor": 5
}
